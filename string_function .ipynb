{
 "cells": [
  {
   "cell_type": "markdown",
   "id": "f58f8388",
   "metadata": {},
   "source": [
    "# String Function"
   ]
  },
  {
   "cell_type": "markdown",
   "id": "3d87dbab",
   "metadata": {},
   "source": [
    "### len() \n",
    "Returns the length of the string "
   ]
  },
  {
   "cell_type": "code",
   "execution_count": 1,
   "id": "029b3443",
   "metadata": {},
   "outputs": [
    {
     "data": {
      "text/plain": [
       "11"
      ]
     },
     "execution_count": 1,
     "metadata": {},
     "output_type": "execute_result"
    }
   ],
   "source": [
    "str='elearner365'\n",
    "len(str)"
   ]
  },
  {
   "cell_type": "markdown",
   "id": "a5e1d7fc",
   "metadata": {},
   "source": [
    "It counts every character written in the quoes even white spaces also."
   ]
  },
  {
   "cell_type": "code",
   "execution_count": 2,
   "id": "1f2328b5",
   "metadata": {},
   "outputs": [
    {
     "data": {
      "text/plain": [
       "12"
      ]
     },
     "execution_count": 2,
     "metadata": {},
     "output_type": "execute_result"
    }
   ],
   "source": [
    "str='elearner 365'\n",
    "len(str)"
   ]
  },
  {
   "cell_type": "code",
   "execution_count": 3,
   "id": "814c1d04",
   "metadata": {
    "scrolled": true
   },
   "outputs": [
    {
     "data": {
      "text/plain": [
       "35"
      ]
     },
     "execution_count": 3,
     "metadata": {},
     "output_type": "execute_result"
    }
   ],
   "source": [
    "str=\"hello @learner wish you a happy day\"\n",
    "len(str)"
   ]
  },
  {
   "cell_type": "markdown",
   "id": "4fbae710",
   "metadata": {},
   "source": [
    "### count()\n"
   ]
  },
  {
   "cell_type": "markdown",
   "id": "45789c2f",
   "metadata": {},
   "source": [
    "Returns the number of times a specified value occurs in a string.\n",
    "You need to give argument in this."
   ]
  },
  {
   "cell_type": "code",
   "execution_count": 4,
   "id": "44699579",
   "metadata": {},
   "outputs": [
    {
     "data": {
      "text/plain": [
       "2"
      ]
     },
     "execution_count": 4,
     "metadata": {},
     "output_type": "execute_result"
    }
   ],
   "source": [
    "str=\"welcome\"\n",
    "str.count('e')"
   ]
  },
  {
   "cell_type": "markdown",
   "id": "4d99266d",
   "metadata": {},
   "source": [
    "Without any argument.\n"
   ]
  },
  {
   "cell_type": "code",
   "execution_count": 5,
   "id": "e64ff29c",
   "metadata": {},
   "outputs": [
    {
     "ename": "TypeError",
     "evalue": "count() takes at least 1 argument (0 given)",
     "output_type": "error",
     "traceback": [
      "\u001b[1;31m---------------------------------------------------------------------------\u001b[0m",
      "\u001b[1;31mTypeError\u001b[0m                                 Traceback (most recent call last)",
      "\u001b[1;32m<ipython-input-5-96c02d0a49f9>\u001b[0m in \u001b[0;36m<module>\u001b[1;34m\u001b[0m\n\u001b[1;32m----> 1\u001b[1;33m \u001b[0mstr\u001b[0m\u001b[1;33m.\u001b[0m\u001b[0mcount\u001b[0m\u001b[1;33m(\u001b[0m\u001b[1;33m)\u001b[0m\u001b[1;33m\u001b[0m\u001b[1;33m\u001b[0m\u001b[0m\n\u001b[0m",
      "\u001b[1;31mTypeError\u001b[0m: count() takes at least 1 argument (0 given)"
     ]
    }
   ],
   "source": [
    "str.count()"
   ]
  },
  {
   "cell_type": "code",
   "execution_count": null,
   "id": "6bfb72d1",
   "metadata": {},
   "outputs": [],
   "source": [
    "str='heLlo @12345 welcOMe'"
   ]
  },
  {
   "cell_type": "code",
   "execution_count": null,
   "id": "d7bd0343",
   "metadata": {},
   "outputs": [],
   "source": [
    "str.count('l')"
   ]
  },
  {
   "cell_type": "code",
   "execution_count": null,
   "id": "b0e55d97",
   "metadata": {},
   "outputs": [],
   "source": [
    "str.count('o')"
   ]
  },
  {
   "cell_type": "markdown",
   "id": "7311d290",
   "metadata": {},
   "source": [
    "You can also give range to it and it will search within that range.\n",
    "Its default is from 0 postion to end of the string."
   ]
  },
  {
   "cell_type": "code",
   "execution_count": null,
   "id": "3a372ee8",
   "metadata": {},
   "outputs": [],
   "source": [
    "str.count('@123',7,19)"
   ]
  },
  {
   "cell_type": "code",
   "execution_count": null,
   "id": "09636fda",
   "metadata": {},
   "outputs": [],
   "source": [
    "str.count('@123',1,20)"
   ]
  },
  {
   "cell_type": "markdown",
   "id": "585f3a33",
   "metadata": {},
   "source": [
    "It also count white spaces."
   ]
  },
  {
   "cell_type": "code",
   "execution_count": null,
   "id": "49052bd7",
   "metadata": {},
   "outputs": [],
   "source": [
    "str.count(' ')"
   ]
  },
  {
   "cell_type": "markdown",
   "id": "87ba4f10",
   "metadata": {},
   "source": [
    "### capitalize()\n",
    "Returns the exact copy of the string with only the first letter in upper case"
   ]
  },
  {
   "cell_type": "code",
   "execution_count": null,
   "id": "a692186b",
   "metadata": {},
   "outputs": [],
   "source": [
    "str='hello @learner'\n",
    "str.capitalize()"
   ]
  },
  {
   "cell_type": "code",
   "execution_count": null,
   "id": "85304ea2",
   "metadata": {},
   "outputs": [],
   "source": [
    "str='HeLlO @leARnEr'\n",
    "str.capitalize()"
   ]
  },
  {
   "cell_type": "markdown",
   "id": "1d29addb",
   "metadata": {},
   "source": [
    "### title()\n",
    "Return with first letter of each word in a string with uppercase"
   ]
  },
  {
   "cell_type": "code",
   "execution_count": null,
   "id": "1eb47304",
   "metadata": {},
   "outputs": [],
   "source": [
    "'hello learners'.title()"
   ]
  },
  {
   "cell_type": "markdown",
   "id": "ee0ce152",
   "metadata": {},
   "source": [
    "It follows the rule of title. First alphabet should be uppercase and remaining should be lower case."
   ]
  },
  {
   "cell_type": "code",
   "execution_count": null,
   "id": "add1dec4",
   "metadata": {},
   "outputs": [],
   "source": [
    "'heLLO LEArners'.title()"
   ]
  },
  {
   "cell_type": "code",
   "execution_count": null,
   "id": "7d7bfbe4",
   "metadata": {},
   "outputs": [],
   "source": [
    "'hello @learners'.title()"
   ]
  },
  {
   "cell_type": "markdown",
   "id": "33addd26",
   "metadata": {},
   "source": [
    "### lower()\n",
    "Return the exact copy of the string with all the letters in lowercase."
   ]
  },
  {
   "cell_type": "code",
   "execution_count": null,
   "id": "0487c28a",
   "metadata": {},
   "outputs": [],
   "source": [
    "'HELLO leaRNER'.lower()"
   ]
  },
  {
   "cell_type": "code",
   "execution_count": null,
   "id": "9e2ddb67",
   "metadata": {},
   "outputs": [],
   "source": [
    "'hELlo @lEARner 12345'.lower()"
   ]
  },
  {
   "cell_type": "markdown",
   "id": "86140a27",
   "metadata": {},
   "source": [
    "### upper()\n",
    "Return the exact copy of the string with all the letters in lowercase."
   ]
  },
  {
   "cell_type": "code",
   "execution_count": null,
   "id": "dc4c3306",
   "metadata": {},
   "outputs": [],
   "source": [
    "'HELLO leaRNER'.upper()"
   ]
  },
  {
   "cell_type": "code",
   "execution_count": null,
   "id": "8eba6b84",
   "metadata": {},
   "outputs": [],
   "source": [
    "'hELlo @lEARner 12345'.upper()"
   ]
  },
  {
   "cell_type": "markdown",
   "id": "29b3cbae",
   "metadata": {},
   "source": [
    "### casefold()"
   ]
  },
  {
   "cell_type": "markdown",
   "id": "49d63b2a",
   "metadata": {},
   "source": [
    "Converts string into lower case"
   ]
  },
  {
   "cell_type": "code",
   "execution_count": null,
   "id": "52659d33",
   "metadata": {},
   "outputs": [],
   "source": [
    "str='123 WE SHouLD W@Lk REgul@rly'"
   ]
  },
  {
   "cell_type": "code",
   "execution_count": null,
   "id": "2732f10e",
   "metadata": {},
   "outputs": [],
   "source": [
    "str.casefold()"
   ]
  },
  {
   "cell_type": "markdown",
   "id": "df88a7a6",
   "metadata": {},
   "source": [
    "It is similar to lower case. \n",
    "\n",
    "But the casefold() method converts more characters into lower case."
   ]
  },
  {
   "cell_type": "code",
   "execution_count": null,
   "id": "f3279b4a",
   "metadata": {},
   "outputs": [],
   "source": [
    "str = 'ß'\n",
    "str.casefold()"
   ]
  },
  {
   "cell_type": "code",
   "execution_count": null,
   "id": "776099ad",
   "metadata": {},
   "outputs": [],
   "source": [
    "str ='ß'\n",
    "str.lower()"
   ]
  },
  {
   "cell_type": "markdown",
   "id": "1d7d7eb7",
   "metadata": {},
   "source": [
    "### swapcase()"
   ]
  },
  {
   "cell_type": "markdown",
   "id": "619fb5b4",
   "metadata": {},
   "source": [
    "Swaps cases, lower case becomes upper case and vice versa"
   ]
  },
  {
   "cell_type": "code",
   "execution_count": null,
   "id": "9f74e538",
   "metadata": {},
   "outputs": [],
   "source": [
    "'this IS JUPyter NoTbOoK.@245'.swapcase()"
   ]
  },
  {
   "cell_type": "markdown",
   "id": "fa5ab92d",
   "metadata": {},
   "source": [
    "### islower()\n",
    "Returns True if all the characters are in lower case, otherwise False."
   ]
  },
  {
   "cell_type": "code",
   "execution_count": null,
   "id": "b7b0d649",
   "metadata": {},
   "outputs": [],
   "source": [
    "'HELLO leaRNER'.islower()"
   ]
  },
  {
   "cell_type": "code",
   "execution_count": null,
   "id": "460ab7d4",
   "metadata": {},
   "outputs": [],
   "source": [
    "'hello learner'.islower()"
   ]
  },
  {
   "cell_type": "code",
   "execution_count": null,
   "id": "f7109dc5",
   "metadata": {},
   "outputs": [],
   "source": [
    "'hello @learner 12345'.islower()"
   ]
  },
  {
   "cell_type": "markdown",
   "id": "cdf43b9f",
   "metadata": {},
   "source": [
    "### isupper()\n",
    "Returns True if all the characters are in uppercase, otherwise False."
   ]
  },
  {
   "cell_type": "code",
   "execution_count": null,
   "id": "5fb33c1a",
   "metadata": {},
   "outputs": [],
   "source": [
    "'HELLO leaRNER'.isupper()"
   ]
  },
  {
   "cell_type": "code",
   "execution_count": null,
   "id": "641a2cfd",
   "metadata": {},
   "outputs": [],
   "source": [
    "'HELLO LEARNER'.isupper()"
   ]
  },
  {
   "cell_type": "code",
   "execution_count": null,
   "id": "1a690099",
   "metadata": {},
   "outputs": [],
   "source": [
    "'HELLO @LEARNER 12345'.islower()"
   ]
  },
  {
   "cell_type": "markdown",
   "id": "1108b972",
   "metadata": {},
   "source": [
    "### isalnum()"
   ]
  },
  {
   "cell_type": "markdown",
   "id": "e5be4cbc",
   "metadata": {},
   "source": [
    "Returns True if all characters in the string are alphanumeric(alphabets and numbers)."
   ]
  },
  {
   "cell_type": "code",
   "execution_count": null,
   "id": "543e78c3",
   "metadata": {},
   "outputs": [],
   "source": [
    "string='alphanumeric 1234'\n",
    "string.isalnum()"
   ]
  },
  {
   "cell_type": "code",
   "execution_count": null,
   "id": "2ef72338",
   "metadata": {},
   "outputs": [],
   "source": [
    "string='alphanumeric1234'\n",
    "string.isalnum()"
   ]
  },
  {
   "cell_type": "markdown",
   "id": "72b68c92",
   "metadata": {},
   "source": [
    "alphabet cases doesn't matter."
   ]
  },
  {
   "cell_type": "code",
   "execution_count": null,
   "id": "d80f98b2",
   "metadata": {},
   "outputs": [],
   "source": [
    "string='aLPHAumeric1234'\n",
    "string.isalnum()"
   ]
  },
  {
   "cell_type": "markdown",
   "id": "b5bf3789",
   "metadata": {},
   "source": [
    "### isalpha()\n",
    "\n",
    "Return true if all the character in a string are alphabet."
   ]
  },
  {
   "cell_type": "code",
   "execution_count": null,
   "id": "8b9bfde4",
   "metadata": {},
   "outputs": [],
   "source": [
    "string='aLPHAbets1234'\n",
    "string.isalpha()"
   ]
  },
  {
   "cell_type": "code",
   "execution_count": null,
   "id": "055e3826",
   "metadata": {},
   "outputs": [],
   "source": [
    "string='aLPHAbetsonly'\n",
    "string.isalpha()"
   ]
  },
  {
   "cell_type": "code",
   "execution_count": null,
   "id": "f92cc00b",
   "metadata": {},
   "outputs": [],
   "source": [
    "string='@LPHAbetsonly'\n",
    "string.isalpha()"
   ]
  },
  {
   "cell_type": "markdown",
   "id": "1da493a4",
   "metadata": {},
   "source": [
    "### isascii()\n",
    "\n",
    "Returns True if all characters in the string are ascii characters."
   ]
  },
  {
   "cell_type": "code",
   "execution_count": null,
   "id": "c277605e",
   "metadata": {},
   "outputs": [],
   "source": [
    "string='@sciicharacters'\n",
    "string.isascii()"
   ]
  },
  {
   "cell_type": "code",
   "execution_count": null,
   "id": "a8d9b391",
   "metadata": {},
   "outputs": [],
   "source": [
    "string='@ascii characters '\n",
    "string.isascii()"
   ]
  },
  {
   "cell_type": "code",
   "execution_count": null,
   "id": "0ffc721f",
   "metadata": {},
   "outputs": [],
   "source": [
    "string='124 @ madhubala'\n",
    "string.isascii()"
   ]
  },
  {
   "cell_type": "markdown",
   "id": "935e4c3e",
   "metadata": {},
   "source": [
    "### isdecimal()\n",
    "\n",
    "Returns True if all characters in the string are decimals"
   ]
  },
  {
   "cell_type": "code",
   "execution_count": null,
   "id": "696d82e5",
   "metadata": {},
   "outputs": [],
   "source": [
    "str=\"12345\"\n",
    "str.isdecimal()\n"
   ]
  },
  {
   "cell_type": "code",
   "execution_count": null,
   "id": "0186ceab",
   "metadata": {},
   "outputs": [],
   "source": [
    "str='123.90'\n",
    "str.isdecimal()"
   ]
  },
  {
   "cell_type": "code",
   "execution_count": null,
   "id": "a06da34b",
   "metadata": {},
   "outputs": [],
   "source": [
    "str='123 123'\n",
    "str.isdecimal()"
   ]
  },
  {
   "cell_type": "code",
   "execution_count": null,
   "id": "525cf07b",
   "metadata": {},
   "outputs": [],
   "source": [
    "str='123er123'\n",
    "str.isdecimal()"
   ]
  },
  {
   "cell_type": "markdown",
   "id": "8a28ab51",
   "metadata": {},
   "source": [
    "### isdigit()\n",
    "Returns True if all characters in the string are digits"
   ]
  },
  {
   "cell_type": "code",
   "execution_count": null,
   "id": "ed7b87bd",
   "metadata": {},
   "outputs": [],
   "source": [
    "str=\"1234@\"\n",
    "str.isdigit()"
   ]
  },
  {
   "cell_type": "code",
   "execution_count": null,
   "id": "1255fc92",
   "metadata": {},
   "outputs": [],
   "source": [
    "str=\"1234\"\n",
    "str.isdigit()"
   ]
  },
  {
   "cell_type": "code",
   "execution_count": null,
   "id": "3dcfe8bf",
   "metadata": {},
   "outputs": [],
   "source": [
    "str=\"1234.00\"\n",
    "str.isdigit()"
   ]
  },
  {
   "cell_type": "code",
   "execution_count": null,
   "id": "96fb2b06",
   "metadata": {},
   "outputs": [],
   "source": [
    "a = \"\\u0030\" #unicode for 0\n",
    "print(a.isdigit())"
   ]
  },
  {
   "cell_type": "code",
   "execution_count": null,
   "id": "43f34f46",
   "metadata": {},
   "outputs": [],
   "source": [
    "b = \"\\u00B2\" #unicode for ²\n",
    "print(b.isdigit())"
   ]
  },
  {
   "cell_type": "markdown",
   "id": "308d0252",
   "metadata": {},
   "source": [
    "### isnumeric()\n",
    "Returns True if all characters in the string are numeric"
   ]
  },
  {
   "cell_type": "code",
   "execution_count": null,
   "id": "b9555217",
   "metadata": {},
   "outputs": [],
   "source": [
    "str=\"1234\"\n",
    "str.isnumeric()"
   ]
  },
  {
   "cell_type": "code",
   "execution_count": null,
   "id": "5b3dec57",
   "metadata": {},
   "outputs": [],
   "source": [
    "str=\"1234 asdf\"\n",
    "str.isnumeric()"
   ]
  },
  {
   "cell_type": "code",
   "execution_count": null,
   "id": "156d9460",
   "metadata": {},
   "outputs": [],
   "source": [
    "str=\"1234asdf\"\n",
    "str.isnumeric()"
   ]
  },
  {
   "cell_type": "code",
   "execution_count": null,
   "id": "50ea7ee5",
   "metadata": {},
   "outputs": [],
   "source": [
    "str=\"1234.00\"\n",
    "str.isnumeric()"
   ]
  },
  {
   "cell_type": "markdown",
   "id": "7f23684d",
   "metadata": {},
   "source": [
    "isdecimal() method supports only Decimal Numbers.\n",
    "\n",
    "isdigit() method supports Decimals, Subscripts, Superscripts.\n",
    "\n",
    "isnumeric() method supports Digits, Vulgar Fractions, Subscripts, Superscripts, Roman Numerals, Currency Numerators."
   ]
  },
  {
   "cell_type": "code",
   "execution_count": null,
   "id": "4d282de8",
   "metadata": {},
   "outputs": [],
   "source": [
    "a = \"\\u0030\" #unicode for 0\n",
    "b = \"\\u00B2\" #unicode for &sup2;\n",
    "c = \"10km2\"\n",
    "d = \"-1\"\n",
    "e = \"1.5\"\n",
    "\n",
    "print(a.isnumeric())\n",
    "print(b.isnumeric())\n",
    "print(c.isnumeric())\n",
    "print(d.isnumeric())\n",
    "print(e.isnumeric())\n",
    "\n",
    "print(a.isdigit())\n",
    "print(b.isdigit())\n",
    "print(c.isdigit())\n",
    "print(d.isdigit())\n",
    "print(e.isdigit())\n",
    "\n",
    "print(a.isdecimal())\n",
    "print(b.isdecimal())\n",
    "print(c.isdecimal())\n",
    "print(d.isdecimal())\n",
    "print(e.isdecimal())"
   ]
  },
  {
   "cell_type": "markdown",
   "id": "85c0ab28",
   "metadata": {},
   "source": [
    "### isspace()\n",
    "Returns True if all characters in the string are whitespaces"
   ]
  },
  {
   "cell_type": "code",
   "execution_count": null,
   "id": "d35f0932",
   "metadata": {},
   "outputs": [],
   "source": [
    "'   '.isspace()"
   ]
  },
  {
   "cell_type": "code",
   "execution_count": null,
   "id": "4f942027",
   "metadata": {},
   "outputs": [],
   "source": [
    "str='   er   '\n",
    "str.isspace()"
   ]
  },
  {
   "cell_type": "markdown",
   "id": "abf99db8",
   "metadata": {},
   "source": [
    "### isidentifier()\n",
    "Returns True if the string is an identifier\n",
    "\n",
    "It compare the string with identifiers rule and if it pass the condition then it return true otherwise false."
   ]
  },
  {
   "cell_type": "code",
   "execution_count": null,
   "id": "a88637b3",
   "metadata": {},
   "outputs": [],
   "source": [
    "str='foridentifier'\n",
    "str.isidentifier()"
   ]
  },
  {
   "cell_type": "code",
   "execution_count": null,
   "id": "bf80c096",
   "metadata": {},
   "outputs": [],
   "source": [
    "str='for identifier'\n",
    "str.isidentifier()"
   ]
  },
  {
   "cell_type": "code",
   "execution_count": null,
   "id": "f6d5565b",
   "metadata": {},
   "outputs": [],
   "source": [
    "str='for_identifier'\n",
    "str.isidentifier()"
   ]
  },
  {
   "cell_type": "markdown",
   "id": "10f138d5",
   "metadata": {},
   "source": [
    "### istitle()\n",
    "Returns True if the string follows the rules of a title\n",
    "\n",
    "First character of each word in a string should be uppercase and other should be lowercase\n"
   ]
  },
  {
   "cell_type": "code",
   "execution_count": null,
   "id": "96ae8b80",
   "metadata": {},
   "outputs": [],
   "source": [
    "'Hello, and welcome'.istitle()"
   ]
  },
  {
   "cell_type": "code",
   "execution_count": null,
   "id": "813df496",
   "metadata": {},
   "outputs": [],
   "source": [
    "'Hello, And Welcome'.istitle()"
   ]
  },
  {
   "cell_type": "code",
   "execution_count": null,
   "id": "718c2b61",
   "metadata": {},
   "outputs": [],
   "source": [
    "'@123 Come Here'.istitle()"
   ]
  },
  {
   "cell_type": "markdown",
   "id": "7f680544",
   "metadata": {},
   "source": [
    "### isprintable()\n",
    "Returns True if all characters in the string are printable.\n"
   ]
  },
  {
   "cell_type": "code",
   "execution_count": null,
   "id": "591b921e",
   "metadata": {},
   "outputs": [],
   "source": [
    "str='Hello @1123 you are welcome here.'\n",
    "str.isprintable()"
   ]
  },
  {
   "cell_type": "code",
   "execution_count": null,
   "id": "fbebbb27",
   "metadata": {},
   "outputs": [],
   "source": [
    "str='Hello @1123 \\n you are welcome here.'\n",
    "str.isprintable()"
   ]
  },
  {
   "cell_type": "markdown",
   "id": "848131e3",
   "metadata": {},
   "source": [
    "Here '\\n' doesn't get print.The new line character in Python is \\n . It is used to indicate the end of a line of text."
   ]
  },
  {
   "cell_type": "markdown",
   "id": "960f86f0",
   "metadata": {},
   "source": [
    "### center()\n",
    "It center align the string, using a specified character (space is default) as the fill character. \n",
    "\n",
    "It need parameter.\n"
   ]
  },
  {
   "cell_type": "code",
   "execution_count": null,
   "id": "aea5421c",
   "metadata": {},
   "outputs": [],
   "source": [
    "str='Hello'\n",
    "str.center(20)"
   ]
  },
  {
   "cell_type": "markdown",
   "id": "d8801ac3",
   "metadata": {},
   "source": [
    "you can also change its default value."
   ]
  },
  {
   "cell_type": "code",
   "execution_count": null,
   "id": "1c410909",
   "metadata": {},
   "outputs": [],
   "source": [
    "str='Hello'\n",
    "str.center(20,'*')"
   ]
  },
  {
   "cell_type": "markdown",
   "id": "680d4c8b",
   "metadata": {},
   "source": [
    "### join()\n",
    "It takes all items in an iterable and joins them into one string.\n",
    "\n",
    "A string must be specified as the separator."
   ]
  },
  {
   "cell_type": "code",
   "execution_count": null,
   "id": "6d9492ba",
   "metadata": {},
   "outputs": [],
   "source": [
    "mylist=['hello','and','welcome']\n",
    "','.join(mylist)"
   ]
  },
  {
   "cell_type": "code",
   "execution_count": null,
   "id": "ca1e0519",
   "metadata": {},
   "outputs": [],
   "source": [
    "mytuple=('hello','and','welcome')\n",
    "'*'.join(mytuple)"
   ]
  },
  {
   "cell_type": "code",
   "execution_count": null,
   "id": "1df26364",
   "metadata": {},
   "outputs": [],
   "source": [
    "mydict={'name':'madhubala','age':'14'}\n",
    "'`'.join(mydict)"
   ]
  },
  {
   "cell_type": "markdown",
   "id": "79ad113f",
   "metadata": {},
   "source": [
    "### encode()\n",
    "This method encodes the string, using the specified encoding. If no encoding is specified, UTF-8 will be used."
   ]
  },
  {
   "cell_type": "code",
   "execution_count": null,
   "id": "a09f3206",
   "metadata": {},
   "outputs": [],
   "source": [
    "str=\"My name is madhubåla\"\n",
    "str.encode()"
   ]
  },
  {
   "cell_type": "code",
   "execution_count": null,
   "id": "84b9f52f",
   "metadata": {},
   "outputs": [],
   "source": [
    "str='my name ia madhubala'\n",
    "str.encode()"
   ]
  },
  {
   "cell_type": "markdown",
   "id": "68bb398f",
   "metadata": {},
   "source": [
    "encoding:-Optional. A String specifying the encoding to use. Default is UTF-8\n",
    "\n",
    "errors:-Optional. A String specifying the error method.\n",
    "\n",
    "##### 'backslashreplace'\t-\n",
    "uses a backslash instead of the character that could not be encoded\n",
    "\n",
    "##### 'ignore'\t- \n",
    "ignores the characters that cannot be encoded\n",
    "\n",
    "##### 'namereplace'\t-\n",
    "replaces the character with a text explaining the character\n",
    "\n",
    "##### 'strict'\t- \n",
    "Default, raises an error on failure\n",
    "\n",
    "##### 'replace'\t- \n",
    "replaces the character with a questionmark\n",
    "\n",
    "##### 'xmlcharrefreplace'\t- \n",
    "replaces the character with an xml character"
   ]
  },
  {
   "cell_type": "code",
   "execution_count": null,
   "id": "13e81a65",
   "metadata": {},
   "outputs": [],
   "source": [
    "str = \"My name is Ståle\"\n",
    "\n",
    "print(str.encode(encoding=\"ascii\",errors=\"backslashreplace\"))\n",
    "print(str.encode(encoding=\"ascii\",errors=\"ignore\"))\n",
    "print(str.encode(encoding=\"ascii\",errors=\"namereplace\"))\n",
    "print(str.encode(encoding=\"ascii\",errors=\"replace\"))\n",
    "print(str.encode(encoding=\"ascii\",errors=\"xmlcharrefreplace\"))"
   ]
  },
  {
   "cell_type": "markdown",
   "id": "487d7312",
   "metadata": {},
   "source": [
    "### endswith()\n",
    "This method returns True if the string ends with the specified value, otherwise False."
   ]
  },
  {
   "cell_type": "code",
   "execution_count": 6,
   "id": "f233da4c",
   "metadata": {},
   "outputs": [
    {
     "data": {
      "text/plain": [
       "True"
      ]
     },
     "execution_count": 6,
     "metadata": {},
     "output_type": "execute_result"
    }
   ],
   "source": [
    "str=\"i am eating a banana\"\n",
    "str.endswith('banana')"
   ]
  },
  {
   "cell_type": "markdown",
   "id": "5634cf59",
   "metadata": {},
   "source": [
    "It has parameter(value, start, end). start and end is optional."
   ]
  },
  {
   "cell_type": "code",
   "execution_count": 7,
   "id": "0a33bda5",
   "metadata": {},
   "outputs": [
    {
     "data": {
      "text/plain": [
       "False"
      ]
     },
     "execution_count": 7,
     "metadata": {},
     "output_type": "execute_result"
    }
   ],
   "source": [
    "str.endswith('banana',2,15)"
   ]
  },
  {
   "cell_type": "code",
   "execution_count": 8,
   "id": "6380af7e",
   "metadata": {},
   "outputs": [
    {
     "data": {
      "text/plain": [
       "False"
      ]
     },
     "execution_count": 8,
     "metadata": {},
     "output_type": "execute_result"
    }
   ],
   "source": [
    "str.endswith('am eating',0,15)"
   ]
  },
  {
   "cell_type": "code",
   "execution_count": 9,
   "id": "ac498d9b",
   "metadata": {},
   "outputs": [
    {
     "data": {
      "text/plain": [
       "True"
      ]
     },
     "execution_count": 9,
     "metadata": {},
     "output_type": "execute_result"
    }
   ],
   "source": [
    "str.endswith('am eating',0,11)"
   ]
  },
  {
   "cell_type": "code",
   "execution_count": 10,
   "id": "308b278e",
   "metadata": {},
   "outputs": [
    {
     "data": {
      "text/plain": [
       "False"
      ]
     },
     "execution_count": 10,
     "metadata": {},
     "output_type": "execute_result"
    }
   ],
   "source": [
    "str.endswith('am eating',0,12)"
   ]
  },
  {
   "cell_type": "markdown",
   "id": "a128a176",
   "metadata": {},
   "source": [
    "Here last character id white space."
   ]
  },
  {
   "cell_type": "markdown",
   "id": "920d17e6",
   "metadata": {},
   "source": [
    "      "
   ]
  },
  {
   "cell_type": "markdown",
   "id": "6570768c",
   "metadata": {},
   "source": [
    "### expandtabs()\n",
    "This method sets the tab size to the specified number of whitespaces."
   ]
  },
  {
   "cell_type": "code",
   "execution_count": 11,
   "id": "cd726009",
   "metadata": {},
   "outputs": [
    {
     "data": {
      "text/plain": [
       "'kids    are     sleep   ing at  the     moment'"
      ]
     },
     "execution_count": 11,
     "metadata": {},
     "output_type": "execute_result"
    }
   ],
   "source": [
    "str='kids\\tare\\tsleep\\ting at\\tthe\\tmoment'\n",
    "str.expandtabs()"
   ]
  },
  {
   "cell_type": "markdown",
   "id": "620f0b9f",
   "metadata": {},
   "source": [
    "The default tabsize is 8(The tab stops are 8, 16 and so on). you can chage it according to your wish."
   ]
  },
  {
   "cell_type": "code",
   "execution_count": 12,
   "id": "1bb35f6e",
   "metadata": {},
   "outputs": [
    {
     "name": "stdout",
     "output_type": "stream",
     "text": [
      "kids  are   sleep ing at      the   moment\n",
      "kids    are sleep   ing at  the moment\n",
      "kids  are   sleep ing at   the   moment\n",
      "kids  are sleep ing at  the moment\n",
      "kids are sleep ing at the moment\n"
     ]
    }
   ],
   "source": [
    "str='kids\\tare\\tsleep\\ting at\\tthe\\tmoment'\n",
    "print(str.expandtabs(6)) # The tab stops are 6, 12, 18, 24 and so on\n",
    "print(str.expandtabs(4)) # The tab stops are 4, 8, 12, 16 and so on\n",
    "print(str.expandtabs(3)) # The tab stops are 3, 6, 9, 12 and so on\n",
    "print(str.expandtabs(2)) # The tab stops are 2, 4, 6, 8 and so on\n",
    "print(str.expandtabs(1)) # The tab stops are 1, 2, 3, 4 and so on"
   ]
  },
  {
   "cell_type": "markdown",
   "id": "d7a97312",
   "metadata": {},
   "source": [
    "### format()\n",
    "This method formats the specified value(s) and insert them inside the string's placeholder."
   ]
  },
  {
   "cell_type": "code",
   "execution_count": 13,
   "id": "6512ae5f",
   "metadata": {},
   "outputs": [
    {
     "data": {
      "text/plain": [
       "'Tommorrow comes and goes before you know'"
      ]
     },
     "execution_count": 13,
     "metadata": {},
     "output_type": "execute_result"
    }
   ],
   "source": [
    "str='Tommorrow {} and {} before you know'\n",
    "str.format('comes','goes')"
   ]
  },
  {
   "cell_type": "markdown",
   "id": "35538abe",
   "metadata": {},
   "source": [
    "\n",
    "\n",
    "\n",
    "You can use it in many ways\n",
    "\n"
   ]
  },
  {
   "cell_type": "code",
   "execution_count": 14,
   "id": "a91e8619",
   "metadata": {},
   "outputs": [
    {
     "data": {
      "text/plain": [
       "'Tommorrow comes and goes before you know'"
      ]
     },
     "execution_count": 14,
     "metadata": {},
     "output_type": "execute_result"
    }
   ],
   "source": [
    "'Tommorrow {} and {} before you know'.format('comes','goes')"
   ]
  },
  {
   "cell_type": "code",
   "execution_count": 15,
   "id": "9f4ff82a",
   "metadata": {},
   "outputs": [
    {
     "data": {
      "text/plain": [
       "'Tommorrow comes and goes before you know'"
      ]
     },
     "execution_count": 15,
     "metadata": {},
     "output_type": "execute_result"
    }
   ],
   "source": [
    "'Tommorrow {0} and {1} before you know'.format('comes','goes')"
   ]
  },
  {
   "cell_type": "code",
   "execution_count": 16,
   "id": "a7556e75",
   "metadata": {},
   "outputs": [
    {
     "data": {
      "text/plain": [
       "'Tommorrow goes and goes before you know'"
      ]
     },
     "execution_count": 16,
     "metadata": {},
     "output_type": "execute_result"
    }
   ],
   "source": [
    "'Tommorrow {1} and {1} before you know'.format('comes','goes')"
   ]
  },
  {
   "cell_type": "code",
   "execution_count": 17,
   "id": "08c822c1",
   "metadata": {},
   "outputs": [
    {
     "data": {
      "text/plain": [
       "'Tommorrow comes and goes before you know'"
      ]
     },
     "execution_count": 17,
     "metadata": {},
     "output_type": "execute_result"
    }
   ],
   "source": [
    "'Tommorrow {a} and {b} before you know'.format(a='comes',b='goes')"
   ]
  },
  {
   "cell_type": "code",
   "execution_count": 18,
   "id": "df1d6c59",
   "metadata": {},
   "outputs": [
    {
     "data": {
      "text/plain": [
       "'the value of pi is=3.14'"
      ]
     },
     "execution_count": 18,
     "metadata": {},
     "output_type": "execute_result"
    }
   ],
   "source": [
    "'the value of pi is={}'.format(3.14)"
   ]
  },
  {
   "cell_type": "markdown",
   "id": "eac9e26c",
   "metadata": {},
   "source": [
    "### Index() \n",
    "Searches the string for a specified value and returns the position of where it was found.\n",
    "\n",
    "it takes parameter."
   ]
  },
  {
   "cell_type": "code",
   "execution_count": 19,
   "id": "79a696a9",
   "metadata": {},
   "outputs": [
    {
     "name": "stdout",
     "output_type": "stream",
     "text": [
      "4\n",
      "0\n"
     ]
    }
   ],
   "source": [
    "str='we have already eaten'\n",
    "print(str.index('a'))\n",
    "print(str.index('we'))"
   ]
  },
  {
   "cell_type": "code",
   "execution_count": 20,
   "id": "edf15dad",
   "metadata": {},
   "outputs": [
    {
     "ename": "ValueError",
     "evalue": "substring not found",
     "output_type": "error",
     "traceback": [
      "\u001b[1;31m---------------------------------------------------------------------------\u001b[0m",
      "\u001b[1;31mValueError\u001b[0m                                Traceback (most recent call last)",
      "\u001b[1;32m<ipython-input-20-9cf565c33754>\u001b[0m in \u001b[0;36m<module>\u001b[1;34m\u001b[0m\n\u001b[1;32m----> 1\u001b[1;33m \u001b[0mstr\u001b[0m\u001b[1;33m.\u001b[0m\u001b[0mindex\u001b[0m\u001b[1;33m(\u001b[0m\u001b[1;34m'we'\u001b[0m\u001b[1;33m,\u001b[0m\u001b[1;36m3\u001b[0m\u001b[1;33m,\u001b[0m\u001b[1;36m8\u001b[0m\u001b[1;33m)\u001b[0m\u001b[1;33m\u001b[0m\u001b[1;33m\u001b[0m\u001b[0m\n\u001b[0m",
      "\u001b[1;31mValueError\u001b[0m: substring not found"
     ]
    }
   ],
   "source": [
    "str.index('we',3,8)"
   ]
  },
  {
   "cell_type": "markdown",
   "id": "18c3d21c",
   "metadata": {},
   "source": [
    "### maketrans()\n",
    "This method returns a mapping table that can be used with the translate() method to replace specified characters."
   ]
  },
  {
   "cell_type": "code",
   "execution_count": 21,
   "id": "6a6811af",
   "metadata": {},
   "outputs": [
    {
     "name": "stdout",
     "output_type": "stream",
     "text": [
      "Hello Sadhubala!\n"
     ]
    }
   ],
   "source": [
    "a= \"Hello Madhubala!\"\n",
    "b= a.maketrans(\"Ma\", \"Sa\")\n",
    "print(a.translate(b))"
   ]
  },
  {
   "cell_type": "code",
   "execution_count": 22,
   "id": "12fc044f",
   "metadata": {},
   "outputs": [
    {
     "name": "stdout",
     "output_type": "stream",
     "text": [
      "G i Sam!\n"
     ]
    }
   ],
   "source": [
    "a = \"Good night Ram!\"\n",
    "x = \"mRa\"\n",
    "y = \"mSa\"\n",
    "z = \"odnght\"\n",
    "b=a.maketrans(x, y, z)\n",
    "print(a.translate(b))"
   ]
  },
  {
   "cell_type": "code",
   "execution_count": 23,
   "id": "c6bd2c0b",
   "metadata": {},
   "outputs": [
    {
     "name": "stdout",
     "output_type": "stream",
     "text": [
      "{109: 109, 82: 83, 97: 97, 111: None, 100: None, 110: None, 103: None, 104: None, 116: None}\n"
     ]
    }
   ],
   "source": [
    "'''if'''\n",
    "\n",
    "print(a.maketrans(x,y,z))"
   ]
  },
  {
   "cell_type": "markdown",
   "id": "7f240d03",
   "metadata": {},
   "source": [
    "The maketrans() method itself returns a dictionary describing each replacement, in unicode:"
   ]
  },
  {
   "cell_type": "markdown",
   "id": "156372e9",
   "metadata": {},
   "source": [
    "### translate()\n",
    "method returns a string where some specified characters are replaced with the character described in a dictionary, or in a mapping table.\n"
   ]
  },
  {
   "cell_type": "code",
   "execution_count": 24,
   "id": "1e7871c8",
   "metadata": {},
   "outputs": [
    {
     "name": "stdout",
     "output_type": "stream",
     "text": [
      "Hello Ram!\n"
     ]
    }
   ],
   "source": [
    "#use a dictionary with ascii codes to replace 84 (T) with 82 (R):\n",
    "mydict = {84:  82}\n",
    "a = \"Hello Tam!\"\n",
    "print(a.translate(mydict))"
   ]
  },
  {
   "cell_type": "code",
   "execution_count": 25,
   "id": "7d51ce56",
   "metadata": {},
   "outputs": [
    {
     "name": "stdout",
     "output_type": "stream",
     "text": [
      "G i Sam!\n"
     ]
    }
   ],
   "source": [
    "a = \"Good night Ram!\"\n",
    "mydict = {109: 109, 82: 83, 97: 97, 111: None, 100: None, 110: None, 103: None, 104: None, 116: None}\n",
    "print(a.translate(mydict))"
   ]
  },
  {
   "cell_type": "markdown",
   "id": "ecf5e465",
   "metadata": {},
   "source": [
    "### zfill()\n",
    "method adds zeros (0) at the beginning of the string, until it reaches the specified length.\n",
    "\n",
    "If the value of the len parameter is less than the length of the string, no filling is done."
   ]
  },
  {
   "cell_type": "code",
   "execution_count": 26,
   "id": "c91c2ace",
   "metadata": {},
   "outputs": [
    {
     "name": "stdout",
     "output_type": "stream",
     "text": [
      "0000000050\n"
     ]
    }
   ],
   "source": [
    "a = \"50\"\n",
    "\n",
    "x = a.zfill(10)\n",
    "\n",
    "print(x)"
   ]
  },
  {
   "cell_type": "code",
   "execution_count": 27,
   "id": "1c742a0e",
   "metadata": {},
   "outputs": [
    {
     "name": "stdout",
     "output_type": "stream",
     "text": [
      "0000000123\n",
      "hello how are you\n",
      "000000000010 fingers\n"
     ]
    }
   ],
   "source": [
    "a='123'\n",
    "b='hello how are you'\n",
    "c='10 fingers'\n",
    "print(a.zfill(10))\n",
    "print(b.zfill(10))\n",
    "print(c.zfill(20))"
   ]
  },
  {
   "cell_type": "markdown",
   "id": "ef2648ec",
   "metadata": {},
   "source": [
    "### find() \n",
    "The find() method finds the first occurrence of the specified value.\n",
    "\n",
    "The find() method returns -1 if the value is not found.\n",
    "\n",
    "The find() method is almost the same as the index() method, the only difference is that the index() method raises an exception if the value is not found."
   ]
  },
  {
   "cell_type": "code",
   "execution_count": 28,
   "id": "170e808b",
   "metadata": {},
   "outputs": [
    {
     "data": {
      "text/plain": [
       "0"
      ]
     },
     "execution_count": 28,
     "metadata": {},
     "output_type": "execute_result"
    }
   ],
   "source": [
    "'it is fun today isn`t it'.find('i')"
   ]
  },
  {
   "cell_type": "code",
   "execution_count": 29,
   "id": "ee2aff09",
   "metadata": {},
   "outputs": [
    {
     "data": {
      "text/plain": [
       "16"
      ]
     },
     "execution_count": 29,
     "metadata": {},
     "output_type": "execute_result"
    }
   ],
   "source": [
    "'it is fun today isn`t it'.find('i',10)"
   ]
  },
  {
   "cell_type": "code",
   "execution_count": 30,
   "id": "8414b761",
   "metadata": {},
   "outputs": [
    {
     "data": {
      "text/plain": [
       "-1"
      ]
     },
     "execution_count": 30,
     "metadata": {},
     "output_type": "execute_result"
    }
   ],
   "source": [
    "'it is fun today isn`t it'.find('i',10,15)"
   ]
  },
  {
   "cell_type": "markdown",
   "id": "e4787514",
   "metadata": {},
   "source": [
    "### lstrip()\n",
    "Returns a left trim version of the string."
   ]
  },
  {
   "cell_type": "code",
   "execution_count": 31,
   "id": "000e6480",
   "metadata": {},
   "outputs": [
    {
     "data": {
      "text/plain": [
       "'hello'"
      ]
     },
     "execution_count": 31,
     "metadata": {},
     "output_type": "execute_result"
    }
   ],
   "source": [
    "'     hello'.lstrip()"
   ]
  },
  {
   "cell_type": "code",
   "execution_count": 32,
   "id": "f44535a5",
   "metadata": {},
   "outputs": [
    {
     "data": {
      "text/plain": [
       "'hello      '"
      ]
     },
     "execution_count": 32,
     "metadata": {},
     "output_type": "execute_result"
    }
   ],
   "source": [
    "'      hello      '.lstrip()"
   ]
  },
  {
   "cell_type": "code",
   "execution_count": 33,
   "id": "a2824e38",
   "metadata": {},
   "outputs": [
    {
     "data": {
      "text/plain": [
       "'hello,,..'"
      ]
     },
     "execution_count": 33,
     "metadata": {},
     "output_type": "execute_result"
    }
   ],
   "source": [
    "'''with parameters'''\n",
    "\n",
    "',,,,....dfgs.hello,,..'.lstrip(',.gdfs')"
   ]
  },
  {
   "cell_type": "code",
   "execution_count": 34,
   "id": "59aa130e",
   "metadata": {},
   "outputs": [
    {
     "data": {
      "text/plain": [
       "'hesslldfgo,,..'"
      ]
     },
     "execution_count": 34,
     "metadata": {},
     "output_type": "execute_result"
    }
   ],
   "source": [
    "',,,,.....hesslldfgo,,..'.lstrip(',.gdfs')"
   ]
  },
  {
   "cell_type": "code",
   "execution_count": 35,
   "id": "f7e057e6",
   "metadata": {},
   "outputs": [
    {
     "ename": "TypeError",
     "evalue": "lstrip arg must be None or str",
     "output_type": "error",
     "traceback": [
      "\u001b[1;31m---------------------------------------------------------------------------\u001b[0m",
      "\u001b[1;31mTypeError\u001b[0m                                 Traceback (most recent call last)",
      "\u001b[1;32m<ipython-input-35-e54daeca966a>\u001b[0m in \u001b[0;36m<module>\u001b[1;34m\u001b[0m\n\u001b[1;32m----> 1\u001b[1;33m \u001b[1;34m',,,,.....hesslldfgo,,..'\u001b[0m\u001b[1;33m.\u001b[0m\u001b[0mlstrip\u001b[0m\u001b[1;33m(\u001b[0m\u001b[1;36m4\u001b[0m\u001b[1;33m)\u001b[0m\u001b[1;33m\u001b[0m\u001b[1;33m\u001b[0m\u001b[0m\n\u001b[0m",
      "\u001b[1;31mTypeError\u001b[0m: lstrip arg must be None or str"
     ]
    }
   ],
   "source": [
    "',,,,.....hesslldfgo,,..'.lstrip(4)                            "
   ]
  },
  {
   "cell_type": "markdown",
   "id": "308fd37a",
   "metadata": {},
   "source": [
    "### rstrip()\n",
    "Returns a right trim version of the string.\n"
   ]
  },
  {
   "cell_type": "code",
   "execution_count": 36,
   "id": "2b8d2d85",
   "metadata": {},
   "outputs": [
    {
     "data": {
      "text/plain": [
       "'hello'"
      ]
     },
     "execution_count": 36,
     "metadata": {},
     "output_type": "execute_result"
    }
   ],
   "source": [
    "'hello     '.rstrip()"
   ]
  },
  {
   "cell_type": "code",
   "execution_count": 37,
   "id": "1818dd1b",
   "metadata": {},
   "outputs": [
    {
     "data": {
      "text/plain": [
       "'      hello'"
      ]
     },
     "execution_count": 37,
     "metadata": {},
     "output_type": "execute_result"
    }
   ],
   "source": [
    "'      hello      '.rstrip()"
   ]
  },
  {
   "cell_type": "code",
   "execution_count": 38,
   "id": "b5e0e306",
   "metadata": {},
   "outputs": [
    {
     "data": {
      "text/plain": [
       "',,,,....hello'"
      ]
     },
     "execution_count": 38,
     "metadata": {},
     "output_type": "execute_result"
    }
   ],
   "source": [
    "'''with parameters'''\n",
    "\n",
    "',,,,....hellodfgs.,,..'.rstrip(',.gdfs')"
   ]
  },
  {
   "cell_type": "code",
   "execution_count": 39,
   "id": "347f1c18",
   "metadata": {},
   "outputs": [
    {
     "data": {
      "text/plain": [
       "',,,,.....hesslldfgo'"
      ]
     },
     "execution_count": 39,
     "metadata": {},
     "output_type": "execute_result"
    }
   ],
   "source": [
    "',,,,.....hesslldfgo,,..'.rstrip('gdfs,.')"
   ]
  },
  {
   "cell_type": "markdown",
   "id": "7e7ba684",
   "metadata": {},
   "source": [
    "### ljust()\n",
    "\n",
    "method will left align the string, using a specified character (space is default) as the fill character."
   ]
  },
  {
   "cell_type": "code",
   "execution_count": 40,
   "id": "696d000d",
   "metadata": {},
   "outputs": [
    {
     "name": "stdout",
     "output_type": "stream",
     "text": [
      "('its sleeping time😴😴😴😴😴😴😴😴😴😴😴😴😴😴😴😴😴😴😴😴😴😴😴😴😴😴😴😴😴😴😴😴😴', 'lets go to sleep')\n"
     ]
    }
   ],
   "source": [
    "str='its sleeping time'.ljust(50,'😴')\n",
    "x=(str,'lets go to sleep')\n",
    "print(x)\n"
   ]
  },
  {
   "cell_type": "markdown",
   "id": "9400d09e",
   "metadata": {},
   "source": [
    "its default is white spaces"
   ]
  },
  {
   "cell_type": "code",
   "execution_count": 41,
   "id": "c6b6092e",
   "metadata": {},
   "outputs": [
    {
     "name": "stdout",
     "output_type": "stream",
     "text": [
      "('its sleeping time                                 ', 'lets go to sleep')\n"
     ]
    }
   ],
   "source": [
    "str='its sleeping time'.ljust(50)\n",
    "x=(str,'lets go to sleep')\n",
    "print(x)"
   ]
  },
  {
   "cell_type": "markdown",
   "id": "3836cef9",
   "metadata": {},
   "source": [
    "### rjust()\n",
    " method will right align the string, using a specified character (space is default) as the fill character."
   ]
  },
  {
   "cell_type": "code",
   "execution_count": 42,
   "id": "0c5842bc",
   "metadata": {},
   "outputs": [
    {
     "name": "stdout",
     "output_type": "stream",
     "text": [
      "('😴😴😴😴😴😴😴😴😴😴😴😴😴😴😴😴😴😴😴😴😴😴😴😴😴😴😴😴😴😴😴😴😴its sleeping time', 'lets go to sleep')\n"
     ]
    }
   ],
   "source": [
    "str='its sleeping time'.rjust(50,'😴')\n",
    "x=(str,'lets go to sleep')\n",
    "print(x)"
   ]
  },
  {
   "cell_type": "markdown",
   "id": "dbe707c6",
   "metadata": {},
   "source": [
    "### partition()\n",
    " method searches for a specified string, and splits the string into a tuple containing three elements"
   ]
  },
  {
   "cell_type": "code",
   "execution_count": 43,
   "id": "596215e7",
   "metadata": {},
   "outputs": [
    {
     "data": {
      "text/plain": [
       "('i like to eat ', 'bananas', '.they are tasty')"
      ]
     },
     "execution_count": 43,
     "metadata": {},
     "output_type": "execute_result"
    }
   ],
   "source": [
    "'i like to eat bananas.they are tasty'.partition('bananas')"
   ]
  },
  {
   "cell_type": "code",
   "execution_count": 44,
   "id": "20945dbc",
   "metadata": {},
   "outputs": [
    {
     "data": {
      "text/plain": [
       "('i like to eat bananas', '  .  ', 'they are tasty')"
      ]
     },
     "execution_count": 44,
     "metadata": {},
     "output_type": "execute_result"
    }
   ],
   "source": [
    "'i like to eat bananas  .  they are tasty'.partition('  .  ')"
   ]
  },
  {
   "cell_type": "markdown",
   "id": "f41c07d9",
   "metadata": {},
   "source": [
    "if you put something which is not in our string"
   ]
  },
  {
   "cell_type": "code",
   "execution_count": 45,
   "id": "bb756596",
   "metadata": {},
   "outputs": [
    {
     "data": {
      "text/plain": [
       "('i like to eat bananas.they are tasty', '', '')"
      ]
     },
     "execution_count": 45,
     "metadata": {},
     "output_type": "execute_result"
    }
   ],
   "source": [
    "'i like to eat bananas.they are tasty'.partition('apples')"
   ]
  },
  {
   "cell_type": "markdown",
   "id": "ab4393db",
   "metadata": {},
   "source": [
    "### replace()\n",
    " method replaces a specified phrase with another specified phrase.\n",
    " "
   ]
  },
  {
   "cell_type": "code",
   "execution_count": 46,
   "id": "0645e88a",
   "metadata": {},
   "outputs": [
    {
     "name": "stdout",
     "output_type": "stream",
     "text": [
      "i do like fruits\n"
     ]
    }
   ],
   "source": [
    "str='i dont like fruits'\n",
    "a=str.replace('dont','do')\n",
    "print(a)"
   ]
  },
  {
   "cell_type": "code",
   "execution_count": 47,
   "id": "14b6b337",
   "metadata": {},
   "outputs": [
    {
     "name": "stdout",
     "output_type": "stream",
     "text": [
      "hi, hi, jello\n"
     ]
    }
   ],
   "source": [
    "'''multiple replace at a time'''\n",
    "str=('hello, hello, jello')\n",
    "a=str.replace('hello','hi')\n",
    "print(a)\n"
   ]
  },
  {
   "cell_type": "code",
   "execution_count": 48,
   "id": "7c74f801",
   "metadata": {},
   "outputs": [
    {
     "name": "stdout",
     "output_type": "stream",
     "text": [
      "hello, hello, jello\n"
     ]
    }
   ],
   "source": [
    "'''if we replace something not present in our string'''\n",
    "str=('hello, hello, jello')\n",
    "a=str.replace('guys','hi')\n",
    "print(a)"
   ]
  },
  {
   "cell_type": "markdown",
   "id": "10075cf8",
   "metadata": {},
   "source": [
    "### rfind()\n",
    "Searches the string for a specified value and returns the last position of where it was found"
   ]
  },
  {
   "cell_type": "code",
   "execution_count": 49,
   "id": "f6fa3e08",
   "metadata": {},
   "outputs": [
    {
     "name": "stdout",
     "output_type": "stream",
     "text": [
      "7\n"
     ]
    }
   ],
   "source": [
    "str='hello, name is rambha sahu.'\n",
    "print(str.rfind('na'))"
   ]
  },
  {
   "cell_type": "code",
   "execution_count": 50,
   "id": "1ae47e07",
   "metadata": {},
   "outputs": [
    {
     "name": "stdout",
     "output_type": "stream",
     "text": [
      "-1\n"
     ]
    }
   ],
   "source": [
    "str='hello, name is rambha sahu.'\n",
    "print(str.rfind('rek'))"
   ]
  },
  {
   "cell_type": "code",
   "execution_count": 51,
   "id": "374b63cc",
   "metadata": {},
   "outputs": [
    {
     "name": "stdout",
     "output_type": "stream",
     "text": [
      "24\n"
     ]
    }
   ],
   "source": [
    "str='hello, name is rambha sahu.'\n",
    "print(str.rfind('h'))"
   ]
  },
  {
   "cell_type": "markdown",
   "id": "82911d64",
   "metadata": {},
   "source": [
    "### rindex()\n",
    "Searches the string for a specified value and returns the last position of where it was found"
   ]
  },
  {
   "cell_type": "code",
   "execution_count": 52,
   "id": "a7f2bd28",
   "metadata": {},
   "outputs": [
    {
     "name": "stdout",
     "output_type": "stream",
     "text": [
      "23\n"
     ]
    }
   ],
   "source": [
    "str='hello, name is rambha sahu.'\n",
    "print(str.rindex('a'))"
   ]
  },
  {
   "cell_type": "code",
   "execution_count": 53,
   "id": "afebf137",
   "metadata": {},
   "outputs": [
    {
     "ename": "ValueError",
     "evalue": "substring not found",
     "output_type": "error",
     "traceback": [
      "\u001b[1;31m---------------------------------------------------------------------------\u001b[0m",
      "\u001b[1;31mValueError\u001b[0m                                Traceback (most recent call last)",
      "\u001b[1;32m<ipython-input-53-b7f633520d5b>\u001b[0m in \u001b[0;36m<module>\u001b[1;34m\u001b[0m\n\u001b[0;32m      1\u001b[0m \u001b[0mstr\u001b[0m\u001b[1;33m=\u001b[0m\u001b[1;34m'hello, name is rambha sahu.'\u001b[0m\u001b[1;33m\u001b[0m\u001b[1;33m\u001b[0m\u001b[0m\n\u001b[1;32m----> 2\u001b[1;33m \u001b[0mprint\u001b[0m\u001b[1;33m(\u001b[0m\u001b[0mstr\u001b[0m\u001b[1;33m.\u001b[0m\u001b[0mrindex\u001b[0m\u001b[1;33m(\u001b[0m\u001b[1;34m'rek'\u001b[0m\u001b[1;33m)\u001b[0m\u001b[1;33m)\u001b[0m\u001b[1;33m\u001b[0m\u001b[1;33m\u001b[0m\u001b[0m\n\u001b[0m",
      "\u001b[1;31mValueError\u001b[0m: substring not found"
     ]
    }
   ],
   "source": [
    "str='hello, name is rambha sahu.'\n",
    "print(str.rindex('rek'))"
   ]
  },
  {
   "cell_type": "code",
   "execution_count": 54,
   "id": "097b75d6",
   "metadata": {},
   "outputs": [
    {
     "name": "stdout",
     "output_type": "stream",
     "text": [
      "24\n"
     ]
    }
   ],
   "source": [
    "str='hello, name is rambha sahu.'\n",
    "print(str.rindex('h'))"
   ]
  },
  {
   "cell_type": "markdown",
   "id": "2e3155f9",
   "metadata": {},
   "source": [
    "### rpartition()\n",
    "Returns a tuple where the string is parted into three parts"
   ]
  },
  {
   "cell_type": "code",
   "execution_count": 55,
   "id": "6ffc58fc",
   "metadata": {},
   "outputs": [
    {
     "data": {
      "text/plain": [
       "('hello kello hello ', 'hello', ' jello jello')"
      ]
     },
     "execution_count": 55,
     "metadata": {},
     "output_type": "execute_result"
    }
   ],
   "source": [
    "str='hello kello hello hello jello jello'\n",
    "str.rpartition('hello')"
   ]
  },
  {
   "cell_type": "code",
   "execution_count": 56,
   "id": "424e74af",
   "metadata": {},
   "outputs": [
    {
     "data": {
      "text/plain": [
       "('hello hello hello hello hello ', 'hello', '')"
      ]
     },
     "execution_count": 56,
     "metadata": {},
     "output_type": "execute_result"
    }
   ],
   "source": [
    "str='hello hello hello hello hello hello'\n",
    "str.rpartition('hello')"
   ]
  },
  {
   "cell_type": "markdown",
   "id": "8f4115c3",
   "metadata": {},
   "source": [
    "### rsplit()\n",
    "Splits the string at the specified separator, and returns a list"
   ]
  },
  {
   "cell_type": "code",
   "execution_count": 57,
   "id": "da81b871",
   "metadata": {},
   "outputs": [
    {
     "name": "stdout",
     "output_type": "stream",
     "text": [
      "['apple', 'banana', 'cherry']\n"
     ]
    }
   ],
   "source": [
    "a = \"apple, banana, cherry\"\n",
    "\n",
    "x = a.rsplit(\", \")\n",
    "\n",
    "print(x)"
   ]
  },
  {
   "cell_type": "code",
   "execution_count": 58,
   "id": "e952e3a4",
   "metadata": {},
   "outputs": [
    {
     "name": "stdout",
     "output_type": "stream",
     "text": [
      "['apple, banana', 'cherry']\n"
     ]
    }
   ],
   "source": [
    "a = \"apple, banana, cherry\"\n",
    "\n",
    "x = a.rsplit(\", \",1\n",
    "            )\n",
    "\n",
    "print(x)"
   ]
  },
  {
   "cell_type": "markdown",
   "id": "6f0b0b1c",
   "metadata": {},
   "source": [
    "### split\n",
    "Splits the string at the specified separator, and returns a list\n"
   ]
  },
  {
   "cell_type": "code",
   "execution_count": 59,
   "id": "422dc7d2",
   "metadata": {},
   "outputs": [
    {
     "name": "stdout",
     "output_type": "stream",
     "text": [
      "['apple, banana, cherry']\n"
     ]
    }
   ],
   "source": [
    "a = \"apple, banana, cherry\"\n",
    "\n",
    "x = a.split(\"apple \")\n",
    "\n",
    "print(x)"
   ]
  },
  {
   "cell_type": "code",
   "execution_count": 60,
   "id": "f4e8d9ea",
   "metadata": {},
   "outputs": [
    {
     "name": "stdout",
     "output_type": "stream",
     "text": [
      "['apple, banana, cherry']\n"
     ]
    }
   ],
   "source": [
    "a = \"apple, banana, cherry\"\n",
    "\n",
    "x = a.split(\"apple \")\n",
    "\n",
    "print(x)"
   ]
  },
  {
   "cell_type": "code",
   "execution_count": 61,
   "id": "6794ba20",
   "metadata": {},
   "outputs": [
    {
     "name": "stdout",
     "output_type": "stream",
     "text": [
      "['apple', 'banana', 'cherry']\n"
     ]
    }
   ],
   "source": [
    "a = \"apple, banana, cherry\"\n",
    "\n",
    "x = a.split(\", \")\n",
    "\n",
    "print(x)"
   ]
  },
  {
   "cell_type": "markdown",
   "id": "dfe9512d",
   "metadata": {},
   "source": [
    "### splitlines()\n",
    "method splits a string into a list. The splitting is done at line breaks.\n"
   ]
  },
  {
   "cell_type": "code",
   "execution_count": 62,
   "id": "2a334989",
   "metadata": {},
   "outputs": [
    {
     "name": "stdout",
     "output_type": "stream",
     "text": [
      "['Thank you for the music', 'Welcome to the jungle']\n"
     ]
    }
   ],
   "source": [
    "a= \"Thank you for the music\\nWelcome to the jungle\"\n",
    "\n",
    "x = a.splitlines()\n",
    "\n",
    "print(x)"
   ]
  },
  {
   "cell_type": "code",
   "execution_count": 63,
   "id": "4be75cf3",
   "metadata": {},
   "outputs": [
    {
     "name": "stdout",
     "output_type": "stream",
     "text": [
      "['Thank you ', 'for the music \\t Welcome ', 'to the jungle']\n"
     ]
    }
   ],
   "source": [
    "a= \"Thank you \\nfor the music \\t Welcome \\nto the jungle\"\n",
    "\n",
    "x = a.splitlines()\n",
    "\n",
    "print(x)"
   ]
  },
  {
   "cell_type": "markdown",
   "id": "70883ffc",
   "metadata": {},
   "source": [
    "### startswith()\n",
    "method returns True if the string starts with the specified value, otherwise False."
   ]
  },
  {
   "cell_type": "code",
   "execution_count": 64,
   "id": "f41c99a6",
   "metadata": {},
   "outputs": [
    {
     "name": "stdout",
     "output_type": "stream",
     "text": [
      "True\n",
      "True\n",
      "True\n",
      "True\n"
     ]
    }
   ],
   "source": [
    "str='get to the starting point'\n",
    "print(str.startswith('g'))\n",
    "print(str.startswith('g',18))\n",
    "print(str.startswith('g',18,19))\n",
    "print(str.startswith('to',4,6))"
   ]
  },
  {
   "cell_type": "markdown",
   "id": "5cb19b9f",
   "metadata": {},
   "source": [
    "### strip()\n",
    "method removes any leading (spaces at the beginning) and trailing (spaces at the end) characters (space is the default leading character to remove)"
   ]
  },
  {
   "cell_type": "code",
   "execution_count": 65,
   "id": "c71aa23f",
   "metadata": {},
   "outputs": [
    {
     "data": {
      "text/plain": [
       "'drink your milk'"
      ]
     },
     "execution_count": 65,
     "metadata": {},
     "output_type": "execute_result"
    }
   ],
   "source": [
    "str='    drink your milk     '\n",
    "str.strip()"
   ]
  },
  {
   "cell_type": "code",
   "execution_count": 66,
   "id": "858ba206",
   "metadata": {},
   "outputs": [
    {
     "data": {
      "text/plain": [
       "'drink your milk'"
      ]
     },
     "execution_count": 66,
     "metadata": {},
     "output_type": "execute_result"
    }
   ],
   "source": [
    "str='😊😊😊😊😊drink your milk😊😊😊😊😊'\n",
    "str.strip('😊')"
   ]
  },
  {
   "cell_type": "code",
   "execution_count": 67,
   "id": "c385ee90",
   "metadata": {},
   "outputs": [
    {
     "data": {
      "text/plain": [
       "'😊😊😊😊😊drink your milk😊😊😊😊😊'"
      ]
     },
     "execution_count": 67,
     "metadata": {},
     "output_type": "execute_result"
    }
   ],
   "source": [
    "str='😊😊😊😊😊drink your milk😊😊😊😊😊'\n",
    "str.strip('🤣')"
   ]
  },
  {
   "cell_type": "markdown",
   "id": "2ac74356",
   "metadata": {},
   "source": [
    "### ord()\n",
    " returns the Unicode code from a given character. This function accepts a string of unit length as an argument and returns the Unicode equivalence of the passed argument.\n"
   ]
  },
  {
   "cell_type": "code",
   "execution_count": 68,
   "id": "a5349b4a",
   "metadata": {},
   "outputs": [
    {
     "name": "stdout",
     "output_type": "stream",
     "text": [
      "97\n",
      "114\n",
      "94\n",
      "65\n"
     ]
    }
   ],
   "source": [
    "print(ord('a'))\n",
    "print(ord('r'))\n",
    "print(ord('^'))\n",
    "print(ord('A'))"
   ]
  },
  {
   "cell_type": "code",
   "execution_count": 69,
   "id": "3df0fb73",
   "metadata": {},
   "outputs": [
    {
     "ename": "TypeError",
     "evalue": "ord() expected a character, but string of length 2 found",
     "output_type": "error",
     "traceback": [
      "\u001b[1;31m---------------------------------------------------------------------------\u001b[0m",
      "\u001b[1;31mTypeError\u001b[0m                                 Traceback (most recent call last)",
      "\u001b[1;32m<ipython-input-69-cfa88e6f1bfd>\u001b[0m in \u001b[0;36m<module>\u001b[1;34m\u001b[0m\n\u001b[1;32m----> 1\u001b[1;33m \u001b[0mprint\u001b[0m\u001b[1;33m(\u001b[0m\u001b[0mord\u001b[0m\u001b[1;33m(\u001b[0m\u001b[1;34m'AB'\u001b[0m\u001b[1;33m)\u001b[0m\u001b[1;33m)\u001b[0m\u001b[1;33m\u001b[0m\u001b[1;33m\u001b[0m\u001b[0m\n\u001b[0m",
      "\u001b[1;31mTypeError\u001b[0m: ord() expected a character, but string of length 2 found"
     ]
    }
   ],
   "source": [
    "print(ord('AB'))"
   ]
  },
  {
   "cell_type": "markdown",
   "id": "a841bab8",
   "metadata": {},
   "source": [
    "### chr()\n",
    "method returns a string representing a character whose Unicode code point is an integer."
   ]
  },
  {
   "cell_type": "code",
   "execution_count": 70,
   "id": "a48a128b",
   "metadata": {},
   "outputs": [
    {
     "name": "stdout",
     "output_type": "stream",
     "text": [
      "\u0003\n",
      "a\n",
      "\"\n",
      "C\n",
      "È\n"
     ]
    }
   ],
   "source": [
    "print(chr(3))\n",
    "print(chr(97))\n",
    "print(chr(34))\n",
    "print(chr(67))\n",
    "print(chr(200)) "
   ]
  },
  {
   "cell_type": "code",
   "execution_count": null,
   "id": "49c94298",
   "metadata": {},
   "outputs": [],
   "source": []
  }
 ],
 "metadata": {
  "kernelspec": {
   "display_name": "Python 3",
   "language": "python",
   "name": "python3"
  },
  "language_info": {
   "codemirror_mode": {
    "name": "ipython",
    "version": 3
   },
   "file_extension": ".py",
   "mimetype": "text/x-python",
   "name": "python",
   "nbconvert_exporter": "python",
   "pygments_lexer": "ipython3",
   "version": "3.8.8"
  }
 },
 "nbformat": 4,
 "nbformat_minor": 5
}
